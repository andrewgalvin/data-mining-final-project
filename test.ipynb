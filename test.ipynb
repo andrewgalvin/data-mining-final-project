{
 "cells": [
  {
   "cell_type": "code",
   "execution_count": 31,
   "metadata": {},
   "outputs": [],
   "source": [
    "import csv\n",
    "import pandas as pd\n",
    "from mlxtend.frequent_patterns import association_rules"
   ]
  },
  {
   "cell_type": "code",
   "execution_count": 32,
   "metadata": {},
   "outputs": [],
   "source": [
    "def procedureApriori(T, minSupport):\n",
    "    candidateItemset = {}\n",
    "    # frequentItemset is used to keep a running list of all of the frequently occuring sets of data in the code\n",
    "    frequentItemset = []\n",
    "\n",
    "    # Generate K1 sets\n",
    "    for transaction in T:\n",
    "        for item in transaction:\n",
    "            if item in candidateItemset:\n",
    "                candidateItemset[item] += 1\n",
    "            else:\n",
    "                candidateItemset[item] = 1\n",
    "    # Reference used: https://stackoverflow.com/questions/58324419/how-do-i-remove-all-items-in-a-dictionary-with-a-value-less-than-a-variable\n",
    "    for key in list(candidateItemset):\n",
    "        if candidateItemset[key] < minSupport:\n",
    "            del candidateItemset[key]\n",
    "    frequentItemset = list(candidateItemset)\n",
    "    if len(candidateItemset) == 0:\n",
    "        return list(candidateItemset)\n",
    "    candidateItemset = {}\n",
    "    countCandidates = {}\n",
    "    # frequentItemset.sort()\n",
    "\n",
    "    # Generate K2 Sets\n",
    "    # Reference used: https://stackoverflow.com/questions/63970483/how-to-check-if-an-array-contains-all-the-elements-of-another-array-if-not-out\n",
    "    # Candidate Generation\n",
    "    for i in range(0, len(frequentItemset)):\n",
    "        for j in range(i + 1, len(frequentItemset)):\n",
    "            k2Set = []\n",
    "            if frequentItemset[i] < frequentItemset[j]:\n",
    "                currentKey = frequentItemset[i] + \" \" + frequentItemset[j]\n",
    "                k2Set.append(frequentItemset[i])\n",
    "                k2Set.append(frequentItemset[j])\n",
    "            else:\n",
    "                currentKey = frequentItemset[i] + \" \" + frequentItemset[j]\n",
    "                k2Set.append(frequentItemset[j])\n",
    "                k2Set.append(frequentItemset[i])\n",
    "            candidateItemset[currentKey] = k2Set\n",
    "            # Transaction Iteration\n",
    "            for transaction in T:\n",
    "                if (\n",
    "                    len(\n",
    "                        [\n",
    "                            h\n",
    "                            for h in candidateItemset[currentKey]\n",
    "                            if h not in transaction\n",
    "                        ]\n",
    "                    )\n",
    "                    == 0\n",
    "                ):\n",
    "                    if currentKey in countCandidates:\n",
    "                        countCandidates[currentKey] += 1\n",
    "                    else:\n",
    "                        countCandidates[currentKey] = 1\n",
    "    # Candidate Pruning\n",
    "    for key in list(candidateItemset):\n",
    "        if key in countCandidates:\n",
    "            if countCandidates[key] < minSupport:\n",
    "                del candidateItemset[key]\n",
    "                del countCandidates[key]\n",
    "            else:\n",
    "                frequentItemset.append(key)\n",
    "        else:\n",
    "            del candidateItemset[key]\n",
    "\n",
    "    if len(candidateItemset) == 0:\n",
    "        return frequentItemset\n",
    "    k = 3\n",
    "\n",
    "    while True:\n",
    "        countCandidates = {}\n",
    "        newCandidates = {}\n",
    "        currentSet = list(candidateItemset)\n",
    "        # Candidate Generation\n",
    "        for i in range(0, len(candidateItemset)):\n",
    "            for h in range(i + 1, len(candidateItemset)):\n",
    "                match = True\n",
    "                for x in range(0, len(currentSet[i]) - 2):\n",
    "                    if len(currentSet[i]) != len(currentSet[h]):\n",
    "                        continue\n",
    "                    if currentSet[i][x] != currentSet[h][x]:\n",
    "                        match = False\n",
    "                if match == True:\n",
    "                    newElement = (\n",
    "                        currentSet[i] + \" \" + currentSet[h][len(currentSet[h]) - 1]\n",
    "                    )\n",
    "                    if newElement not in newCandidates:\n",
    "                        L = candidateItemset[currentSet[i]]\n",
    "                        L.append(currentSet[h][len(currentSet[h]) - 1])\n",
    "                        newCandidates[newElement] = L\n",
    "\n",
    "        # Transaction Iteration\n",
    "        newCountCandidates = {}\n",
    "        for key in newCandidates:\n",
    "            for transaction in T:\n",
    "                if len([h for h in newCandidates[key] if h not in transaction]) == 0:\n",
    "                    if key in newCountCandidates:\n",
    "                        newCountCandidates[key] += 1\n",
    "                    else:\n",
    "                        newCountCandidates[key] = 1\n",
    "\n",
    "        # Candidate Pruning\n",
    "        for key in list(newCandidates):\n",
    "            if key in newCountCandidates:\n",
    "                if newCountCandidates[key] < minSupport:\n",
    "                    del newCandidates[key]\n",
    "                    del newCountCandidates[key]\n",
    "                else:\n",
    "                    frequentItemset.append(key)\n",
    "            else:\n",
    "                del newCandidates[key]\n",
    "\n",
    "        # If no candidates after pruning, return\n",
    "        if len(newCandidates) == 0:\n",
    "            return frequentItemset\n",
    "            print(\"Frequent Sets: \" + str(frequentItemset))\n",
    "            return candidateItemset\n",
    "        candidateItemset = newCandidates\n",
    "\n",
    "        k += 1"
   ]
  },
  {
   "cell_type": "code",
   "execution_count": 38,
   "metadata": {},
   "outputs": [
    {
     "ename": "AttributeError",
     "evalue": "'str' object has no attribute 'decode'",
     "output_type": "error",
     "traceback": [
      "\u001b[1;31m---------------------------------------------------------------------------\u001b[0m",
      "\u001b[1;31mAttributeError\u001b[0m                            Traceback (most recent call last)",
      "Cell \u001b[1;32mIn [38], line 9\u001b[0m\n\u001b[0;32m      7\u001b[0m \u001b[39mfor\u001b[39;00m i \u001b[39min\u001b[39;00m \u001b[39mrange\u001b[39m(\u001b[39m1\u001b[39m, \u001b[39mlen\u001b[39m(row)):\n\u001b[0;32m      8\u001b[0m     \u001b[39mif\u001b[39;00m \u001b[39mstr\u001b[39m(row[i]) \u001b[39m!=\u001b[39m \u001b[39m\"\u001b[39m\u001b[39m\"\u001b[39m:\n\u001b[1;32m----> 9\u001b[0m         rowList\u001b[39m.\u001b[39mappend(\u001b[39mstr\u001b[39;49m(row[i])\u001b[39m.\u001b[39;49mdecode(\u001b[39m'\u001b[39m\u001b[39mutf-16\u001b[39m\u001b[39m'\u001b[39m))\n\u001b[0;32m     10\u001b[0m inputList\u001b[39m.\u001b[39mappend(rowList)\n",
      "\u001b[1;31mAttributeError\u001b[0m: 'str' object has no attribute 'decode'"
     ]
    }
   ],
   "source": [
    "setSup = 1\n",
    "inputList = []\n",
    "with open(\"./bread.csv\", newline=\"\", encoding=\"utf8\") as inputFile:\n",
    "    reader = csv.reader(inputFile, delimiter=\",\")\n",
    "    for row in reader:\n",
    "        rowList = []\n",
    "        for i in range(1, len(row)):\n",
    "            if str(row[i]) != \"\":\n",
    "                rowList.append(str(row[i]).decode('utf-16'))\n",
    "        inputList.append(rowList)"
   ]
  },
  {
   "cell_type": "code",
   "execution_count": 37,
   "metadata": {},
   "outputs": [
    {
     "data": {
      "text/plain": [
       "[[b'\\xff\\xfe\\xf0\\x00x\\x01\\xdc\\x02\\xad\\x00\\xf0\\x00x\\x01\\xdc\\x02\\xad\\x00\\xf0\\x00x\\x01\\xdc\\x02\\xad\\x00',\n",
       "  b'\\xff\\xfe\\xf0\\x00x\\x01\\xa4\\x00\\xa1\\x00\\xf0\\x00x\\x01\\xa4\\x00\\xa1\\x00',\n",
       "  b'\\xff\\xfe\\xf0\\x00x\\x01\\x18 \\xac ']]"
      ]
     },
     "execution_count": 37,
     "metadata": {},
     "output_type": "execute_result"
    }
   ],
   "source": [
    "inputList"
   ]
  },
  {
   "cell_type": "code",
   "execution_count": 34,
   "metadata": {},
   "outputs": [
    {
     "ename": "TypeError",
     "evalue": "can't concat str to bytes",
     "output_type": "error",
     "traceback": [
      "\u001b[1;31m---------------------------------------------------------------------------\u001b[0m",
      "\u001b[1;31mTypeError\u001b[0m                                 Traceback (most recent call last)",
      "Cell \u001b[1;32mIn [34], line 1\u001b[0m\n\u001b[1;32m----> 1\u001b[0m x \u001b[39m=\u001b[39m procedureApriori(inputList, setSup)\n",
      "Cell \u001b[1;32mIn [32], line 35\u001b[0m, in \u001b[0;36mprocedureApriori\u001b[1;34m(T, minSupport)\u001b[0m\n\u001b[0;32m     33\u001b[0m     k2Set\u001b[39m.\u001b[39mappend(frequentItemset[j])\n\u001b[0;32m     34\u001b[0m \u001b[39melse\u001b[39;00m:\n\u001b[1;32m---> 35\u001b[0m     currentKey \u001b[39m=\u001b[39m frequentItemset[i] \u001b[39m+\u001b[39;49m \u001b[39m\"\u001b[39;49m\u001b[39m \u001b[39;49m\u001b[39m\"\u001b[39;49m \u001b[39m+\u001b[39m frequentItemset[j]\n\u001b[0;32m     36\u001b[0m     k2Set\u001b[39m.\u001b[39mappend(frequentItemset[j])\n\u001b[0;32m     37\u001b[0m     k2Set\u001b[39m.\u001b[39mappend(frequentItemset[i])\n",
      "\u001b[1;31mTypeError\u001b[0m: can't concat str to bytes"
     ]
    }
   ],
   "source": [
    "x = procedureApriori(inputList, setSup)"
   ]
  },
  {
   "cell_type": "code",
   "execution_count": null,
   "metadata": {},
   "outputs": [],
   "source": [
    "frozen_new_x = []\n",
    "new_x = []\n",
    "for i in x:\n",
    "    frozen_new_x.append(frozenset([k for k in i.split(\" \")]))\n",
    "    new_x.append([k for k in i.split(\" \")])\n",
    "frequent_itemsets = pd.DataFrame()\n",
    "frequent_itemsets[\"itemsets\"] = frozen_new_x\n",
    "frequent_itemsets[\"support\"] = 1\n",
    "r = association_rules(frequent_itemsets, support_only=True)"
   ]
  },
  {
   "cell_type": "code",
   "execution_count": null,
   "metadata": {},
   "outputs": [],
   "source": [
    "rules = []\n",
    "for l in range(len(r[\"antecedents\"].values)):\n",
    "    rules.append([list(r[\"antecedents\"][l])[0], list(r[\"consequents\"][l])[0]])"
   ]
  },
  {
   "cell_type": "code",
   "execution_count": null,
   "metadata": {},
   "outputs": [
    {
     "name": "stdout",
     "output_type": "stream",
     "text": [
      "[['ðŸ˜\\xadðŸ˜\\xadðŸ˜\\xad', 'ðŸ¤¡ðŸ¤¡'], ['ðŸ˜\\xadðŸ˜\\xadðŸ˜\\xad', 'ðŸ‘€'], ['ðŸ¤¡ðŸ¤¡', 'ðŸ‘€']]\n"
     ]
    }
   ],
   "source": [
    "new_rules = []\n",
    "\n",
    "for i in new_x:\n",
    "    for rule in rules:\n",
    "        before = rule[0]\n",
    "        after = rule[1]\n",
    "        before_idx = None\n",
    "        after_idx = None\n",
    "        for item in i:\n",
    "            if item == before:\n",
    "                if before_idx == None:\n",
    "                    before_idx = i.index(item)\n",
    "            elif item == after:\n",
    "                if after_idx == None:\n",
    "                    after_idx = i.index(item)\n",
    "        if before_idx != None and after_idx != None:\n",
    "            if before_idx < after_idx:\n",
    "                new_rules.append(rule)\n",
    "print(new_rules)"
   ]
  },
  {
   "cell_type": "code",
   "execution_count": null,
   "metadata": {},
   "outputs": [],
   "source": []
  }
 ],
 "metadata": {
  "kernelspec": {
   "display_name": "Python 3.10.0 64-bit",
   "language": "python",
   "name": "python3"
  },
  "language_info": {
   "codemirror_mode": {
    "name": "ipython",
    "version": 3
   },
   "file_extension": ".py",
   "mimetype": "text/x-python",
   "name": "python",
   "nbconvert_exporter": "python",
   "pygments_lexer": "ipython3",
   "version": "3.10.0"
  },
  "orig_nbformat": 4,
  "vscode": {
   "interpreter": {
    "hash": "369f2c481f4da34e4445cda3fffd2e751bd1c4d706f27375911949ba6bb62e1c"
   }
  }
 },
 "nbformat": 4,
 "nbformat_minor": 2
}
